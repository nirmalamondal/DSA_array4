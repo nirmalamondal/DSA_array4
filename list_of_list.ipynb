{
 "cells": [
  {
   "cell_type": "code",
   "execution_count": 2,
   "id": "0020ffee-bd81-443f-ae1f-4951115a9f14",
   "metadata": {},
   "outputs": [
    {
     "name": "stdin",
     "output_type": "stream",
     "text": [
      "Enter number of elements :  4\n",
      " 1\n",
      " 2\n",
      " 3\n",
      " 3\n",
      "Enter number of elements :  2\n",
      " 1\n",
      " 2\n"
     ]
    },
    {
     "name": "stdout",
     "output_type": "stream",
     "text": [
      "[[3], []]\n"
     ]
    }
   ],
   "source": [
    "'''**Question 2**\n",
    "\n",
    "Given two **0-indexed** integer arrays nums1 and nums2, return *a list* answer *of size* 2 *where:*\n",
    "\n",
    "- answer[0] *is a list of all **distinct** integers in* nums1 *which are **not** present in* nums2*.*\n",
    "- answer[1] *is a list of all **distinct** integers in* nums2 *which are **not** present in* nums1.\n",
    "\n",
    "**Note** that the integers in the lists may be returned in **any** order.\n",
    "\n",
    "**Example 1:**\n",
    "\n",
    "**Input:** nums1 = [1,2,3], nums2 = [2,4,6]\n",
    "\n",
    "**Output:** [[1,3],[4,6]]\n",
    "\n",
    "**Explanation:**\n",
    "\n",
    "For nums1, nums1[1] = 2 is present at index 0 of nums2, whereas nums1[0] = 1 and nums1[2] = 3 are not present in nums2. Therefore, answer[0] = [1,3].\n",
    "\n",
    "For nums2, nums2[0] = 2 is present at index 1 of nums1, whereas nums2[1] = 4 and nums2[2] = 6 are not present in nums2. Therefore, answer[1] = [4,6].\n",
    "\n",
    "'''\n",
    "\n",
    "\n",
    "def findDifference(nums1,nums2):\n",
    "        ans = [[],[]]\n",
    "        ans1 =[]\n",
    "        ans2 = []\n",
    "        for i in nums1:\n",
    "            if i not in nums2:\n",
    "                ans1.append(i)\n",
    "\n",
    "        for i in nums2:\n",
    "            if i not in nums1:\n",
    "                ans2.append(i) \n",
    "        ans[0] = ans1\n",
    "        ans[1] = ans2\n",
    "        res = list(map(set, ans))\n",
    "        res2 = list(map(list, res))\n",
    "        return res2;             \n",
    "\n",
    "    \n",
    "    \n",
    "n1 = int(input(\"Enter number of elements : \"))\n",
    "nums1 = []\n",
    "nums2 = []\n",
    "for i in range(0, n1):\n",
    "    ele = int(input())\n",
    "    nums1.append(ele) \n",
    "n2 = int(input(\"Enter number of elements : \"))\n",
    "for i in range(0, n2):\n",
    "    ele = int(input())\n",
    "    nums2.append(ele)\n",
    "print(findDifference(nums1,nums2))"
   ]
  },
  {
   "cell_type": "code",
   "execution_count": null,
   "id": "ff090001-63d8-47b7-ae88-ff6ffa87918d",
   "metadata": {},
   "outputs": [],
   "source": []
  }
 ],
 "metadata": {
  "kernelspec": {
   "display_name": "Python 3 (ipykernel)",
   "language": "python",
   "name": "python3"
  },
  "language_info": {
   "codemirror_mode": {
    "name": "ipython",
    "version": 3
   },
   "file_extension": ".py",
   "mimetype": "text/x-python",
   "name": "python",
   "nbconvert_exporter": "python",
   "pygments_lexer": "ipython3",
   "version": "3.10.8"
  }
 },
 "nbformat": 4,
 "nbformat_minor": 5
}
